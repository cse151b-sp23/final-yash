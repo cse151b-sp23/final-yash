{
 "cells": [
  {
   "cell_type": "markdown",
   "id": "1c22edc2",
   "metadata": {},
   "source": [
    "# Data Pre-Processing and Visualization"
   ]
  },
  {
   "cell_type": "markdown",
   "id": "c99417fb",
   "metadata": {},
   "source": [
    "### Import Required Libraries"
   ]
  },
  {
   "cell_type": "code",
   "execution_count": 1,
   "id": "c4a76358",
   "metadata": {},
   "outputs": [],
   "source": [
    "import numpy as np, pandas as pd\n",
    "import matplotlib.pyplot as plt\n",
    "from datetime import datetime\n",
    "import re\n",
    "import math"
   ]
  },
  {
   "cell_type": "markdown",
   "id": "d185f311",
   "metadata": {},
   "source": [
    "### Custom Functions Used for Processing and Information Parsing"
   ]
  },
  {
   "cell_type": "markdown",
   "id": "0e4e2af3",
   "metadata": {},
   "source": [
    "#### Calculating Trip Time from Polyline (deriving output labels)\n",
    "\n",
    "- Points are taken at 15 second intervals, thus the formula for travel time is:\n",
    "\n",
    "    (numpoints - 1)*15s "
   ]
  },
  {
   "cell_type": "code",
   "execution_count": 2,
   "id": "d352b614",
   "metadata": {},
   "outputs": [],
   "source": [
    "def travel_time(polyline):\n",
    "    return max(polyline.count(\"[\") - 2, 0) * 15"
   ]
  },
  {
   "cell_type": "markdown",
   "id": "4f36af2e",
   "metadata": {},
   "source": [
    "#### Parsing Timestamp into constituent Components"
   ]
  },
  {
   "cell_type": "code",
   "execution_count": 3,
   "id": "3ff0117f",
   "metadata": {},
   "outputs": [],
   "source": [
    "def parse_timestamp(taxi_data):\n",
    "    date_time = datetime.fromtimestamp(taxi_data[\"TIMESTAMP\"])\n",
    "    return date_time.year, date_time.month, date_time.day, date_time.hour, date_time.weekday()"
   ]
  },
  {
   "cell_type": "markdown",
   "id": "d73bf6c2",
   "metadata": {},
   "source": [
    "#### Deriving Velocity from Polyline"
   ]
  },
  {
   "cell_type": "code",
   "execution_count": 4,
   "id": "db75097c",
   "metadata": {},
   "outputs": [],
   "source": [
    "#Velocity Calculation adapted from: \n",
    "#https://www.ridgesolutions.ie/index.php/2013/11/14/algorithm-to-calculate-speed-from-two-gps-latitude-and-longitude-points-and-time-difference/\n",
    "\n",
    "def velocity(lat1, lon1, lat2, lon2):\n",
    "    \n",
    "    #Convert degrees to radians\n",
    "    lat1 = lat1 * math.pi / 180.0;\n",
    "    lon1 = lon1 * math.pi / 180.0;\n",
    "    lat2 = lat2 * math.pi / 180.0;\n",
    "    lon2 = lon2 * math.pi / 180.0;\n",
    "    \n",
    "    #radius of earth in metres\n",
    "    r = 6378100;\n",
    "    \n",
    "    #P\n",
    "    rho1 = r * math.cos(lat1)\n",
    "    z1 = r * math.sin(lat1)\n",
    "    x1 = rho1 * math.cos(lon1)\n",
    "    y1 = rho1 * math.sin(lon1)\n",
    "    \n",
    "    #Q\n",
    "    rho2 = r * math.cos(lat2)\n",
    "    z2 = r * math.sin(lat2)\n",
    "    x2 = rho2 * math.cos(lon2)\n",
    "    y2 = rho2 * math.sin(lon2)\n",
    "    \n",
    "    #Dot product\n",
    "    dot = (x1 * x2 + y1 * y2 + z1 * z2)\n",
    "    cos_theta = dot / (r * r)\n",
    "    \n",
    "    if(cos_theta > 1):\n",
    "        cos_theta = 1\n",
    "        \n",
    "    theta = math.acos(cos_theta)\n",
    "    \n",
    "    #Distance in Metres\n",
    "    distance = r * theta\n",
    "    \n",
    "    return distance/15 #speed in meters per second"
   ]
  },
  {
   "cell_type": "markdown",
   "id": "91ffe9be",
   "metadata": {},
   "source": [
    "#### Computing Average Velocities from Velcoity Data"
   ]
  },
  {
   "cell_type": "code",
   "execution_count": 5,
   "id": "d3dca8d7",
   "metadata": {},
   "outputs": [],
   "source": [
    "avg_velocities = []\n",
    "coordinate_list = []\n",
    "\n",
    "#Average Velocity\n",
    "def avg_velo(taxi_data):\n",
    "    \n",
    "    k = 10\n",
    "    \n",
    "    poly = taxi_data[\"POLYLINE\"]\n",
    "    \n",
    "    for i in range(0, len(taxi_data), 1):\n",
    "        coord = poly[i]\n",
    "        coord = re.split(r',|\\[|\\]', coord)\n",
    "        count = 0\n",
    "        \n",
    "        coordinates = []\n",
    "        \n",
    "        for value in coord:\n",
    "            if (count > 2*(k-2) or count > len(coord)-2):\n",
    "                break\n",
    "            else:\n",
    "                #print(value + str(value.isnumeric()))\n",
    "                if(value != ''):\n",
    "                    coordinates.append(float(value))\n",
    "                    \n",
    "        coordinate_list.append(coordinates)\n",
    "              \n",
    "        velocities = []\n",
    "        \n",
    "        for j in range(0, int(len(coordinates)/4), 1):\n",
    "            velocities.append(velocity(coordinates[j], coordinates[j+1], coordinates[j+2], coordinates[j+3]))\n",
    "    \n",
    "        sum_velo = 0.0\n",
    "    \n",
    "        for velo in velocities:\n",
    "            sum_velo += velo\n",
    "        \n",
    "        if(len(velocities)==0):\n",
    "            num_velo = 1\n",
    "        else:\n",
    "            num_velo = len(velocities)\n",
    "            \n",
    "        avg_velocities.append(sum_velo/num_velo)"
   ]
  },
  {
   "cell_type": "markdown",
   "id": "678b8ce6",
   "metadata": {},
   "source": [
    "### Read CSV Dataset File"
   ]
  },
  {
   "cell_type": "code",
   "execution_count": 6,
   "id": "353c6f68",
   "metadata": {},
   "outputs": [],
   "source": [
    "taxi_data = pd.read_csv(\"kaggle_data/train.csv\")"
   ]
  },
  {
   "cell_type": "markdown",
   "id": "802e1690",
   "metadata": {},
   "source": [
    "### Text Based Data Visulization"
   ]
  },
  {
   "cell_type": "code",
   "execution_count": 7,
   "id": "5651038f",
   "metadata": {},
   "outputs": [
    {
     "data": {
      "text/html": [
       "<div>\n",
       "<style scoped>\n",
       "    .dataframe tbody tr th:only-of-type {\n",
       "        vertical-align: middle;\n",
       "    }\n",
       "\n",
       "    .dataframe tbody tr th {\n",
       "        vertical-align: top;\n",
       "    }\n",
       "\n",
       "    .dataframe thead th {\n",
       "        text-align: right;\n",
       "    }\n",
       "</style>\n",
       "<table border=\"1\" class=\"dataframe\">\n",
       "  <thead>\n",
       "    <tr style=\"text-align: right;\">\n",
       "      <th></th>\n",
       "      <th>TRIP_ID</th>\n",
       "      <th>CALL_TYPE</th>\n",
       "      <th>ORIGIN_CALL</th>\n",
       "      <th>ORIGIN_STAND</th>\n",
       "      <th>TAXI_ID</th>\n",
       "      <th>TIMESTAMP</th>\n",
       "      <th>DAY_TYPE</th>\n",
       "      <th>MISSING_DATA</th>\n",
       "      <th>POLYLINE</th>\n",
       "    </tr>\n",
       "  </thead>\n",
       "  <tbody>\n",
       "    <tr>\n",
       "      <th>0</th>\n",
       "      <td>1372636858620000589</td>\n",
       "      <td>C</td>\n",
       "      <td>NaN</td>\n",
       "      <td>NaN</td>\n",
       "      <td>20000589</td>\n",
       "      <td>1372636858</td>\n",
       "      <td>A</td>\n",
       "      <td>False</td>\n",
       "      <td>[[-8.618643,41.141412],[-8.618499,41.141376],[...</td>\n",
       "    </tr>\n",
       "    <tr>\n",
       "      <th>1</th>\n",
       "      <td>1372637303620000596</td>\n",
       "      <td>B</td>\n",
       "      <td>NaN</td>\n",
       "      <td>7.0</td>\n",
       "      <td>20000596</td>\n",
       "      <td>1372637303</td>\n",
       "      <td>A</td>\n",
       "      <td>False</td>\n",
       "      <td>[[-8.639847,41.159826],[-8.640351,41.159871],[...</td>\n",
       "    </tr>\n",
       "    <tr>\n",
       "      <th>2</th>\n",
       "      <td>1372636951620000320</td>\n",
       "      <td>C</td>\n",
       "      <td>NaN</td>\n",
       "      <td>NaN</td>\n",
       "      <td>20000320</td>\n",
       "      <td>1372636951</td>\n",
       "      <td>A</td>\n",
       "      <td>False</td>\n",
       "      <td>[[-8.612964,41.140359],[-8.613378,41.14035],[-...</td>\n",
       "    </tr>\n",
       "    <tr>\n",
       "      <th>3</th>\n",
       "      <td>1372636854620000520</td>\n",
       "      <td>C</td>\n",
       "      <td>NaN</td>\n",
       "      <td>NaN</td>\n",
       "      <td>20000520</td>\n",
       "      <td>1372636854</td>\n",
       "      <td>A</td>\n",
       "      <td>False</td>\n",
       "      <td>[[-8.574678,41.151951],[-8.574705,41.151942],[...</td>\n",
       "    </tr>\n",
       "    <tr>\n",
       "      <th>4</th>\n",
       "      <td>1372637091620000337</td>\n",
       "      <td>C</td>\n",
       "      <td>NaN</td>\n",
       "      <td>NaN</td>\n",
       "      <td>20000337</td>\n",
       "      <td>1372637091</td>\n",
       "      <td>A</td>\n",
       "      <td>False</td>\n",
       "      <td>[[-8.645994,41.18049],[-8.645949,41.180517],[-...</td>\n",
       "    </tr>\n",
       "  </tbody>\n",
       "</table>\n",
       "</div>"
      ],
      "text/plain": [
       "               TRIP_ID CALL_TYPE  ORIGIN_CALL  ORIGIN_STAND   TAXI_ID  \\\n",
       "0  1372636858620000589         C          NaN           NaN  20000589   \n",
       "1  1372637303620000596         B          NaN           7.0  20000596   \n",
       "2  1372636951620000320         C          NaN           NaN  20000320   \n",
       "3  1372636854620000520         C          NaN           NaN  20000520   \n",
       "4  1372637091620000337         C          NaN           NaN  20000337   \n",
       "\n",
       "    TIMESTAMP DAY_TYPE  MISSING_DATA  \\\n",
       "0  1372636858        A         False   \n",
       "1  1372637303        A         False   \n",
       "2  1372636951        A         False   \n",
       "3  1372636854        A         False   \n",
       "4  1372637091        A         False   \n",
       "\n",
       "                                            POLYLINE  \n",
       "0  [[-8.618643,41.141412],[-8.618499,41.141376],[...  \n",
       "1  [[-8.639847,41.159826],[-8.640351,41.159871],[...  \n",
       "2  [[-8.612964,41.140359],[-8.613378,41.14035],[-...  \n",
       "3  [[-8.574678,41.151951],[-8.574705,41.151942],[...  \n",
       "4  [[-8.645994,41.18049],[-8.645949,41.180517],[-...  "
      ]
     },
     "execution_count": 7,
     "metadata": {},
     "output_type": "execute_result"
    }
   ],
   "source": [
    "#Display first 5 Lines\n",
    "taxi_data.head()"
   ]
  },
  {
   "cell_type": "code",
   "execution_count": 8,
   "id": "5f043821",
   "metadata": {},
   "outputs": [
    {
     "data": {
      "text/plain": [
       "(1710670, 9)"
      ]
     },
     "execution_count": 8,
     "metadata": {},
     "output_type": "execute_result"
    }
   ],
   "source": [
    "#Dataset Size\n",
    "taxi_data.shape"
   ]
  },
  {
   "cell_type": "code",
   "execution_count": 9,
   "id": "ef76aff7",
   "metadata": {},
   "outputs": [
    {
     "data": {
      "text/plain": [
       "Index(['TRIP_ID', 'CALL_TYPE', 'ORIGIN_CALL', 'ORIGIN_STAND', 'TAXI_ID',\n",
       "       'TIMESTAMP', 'DAY_TYPE', 'MISSING_DATA', 'POLYLINE'],\n",
       "      dtype='object')"
      ]
     },
     "execution_count": 9,
     "metadata": {},
     "output_type": "execute_result"
    }
   ],
   "source": [
    "#Dataset Information Type\n",
    "taxi_data.columns"
   ]
  },
  {
   "cell_type": "code",
   "execution_count": 10,
   "id": "33623d75",
   "metadata": {},
   "outputs": [
    {
     "data": {
      "text/plain": [
       "TRIP_ID               0\n",
       "CALL_TYPE             0\n",
       "ORIGIN_CALL     1345900\n",
       "ORIGIN_STAND     904091\n",
       "TAXI_ID               0\n",
       "TIMESTAMP             0\n",
       "DAY_TYPE              0\n",
       "MISSING_DATA          0\n",
       "POLYLINE              0\n",
       "dtype: int64"
      ]
     },
     "execution_count": 10,
     "metadata": {},
     "output_type": "execute_result"
    }
   ],
   "source": [
    "#Find number of empty datacells by information type\n",
    "taxi_data.isnull().sum()"
   ]
  },
  {
   "cell_type": "markdown",
   "id": "915dcb48",
   "metadata": {},
   "source": [
    "#### Travel Time Calculation from Polyline"
   ]
  },
  {
   "cell_type": "code",
   "execution_count": 11,
   "id": "d4fb6691",
   "metadata": {},
   "outputs": [],
   "source": [
    "#Add trip duration to dataset\n",
    "taxi_data[\"LEN\"] = taxi_data[\"POLYLINE\"].apply(travel_time)"
   ]
  },
  {
   "cell_type": "code",
   "execution_count": 12,
   "id": "f31ac050",
   "metadata": {},
   "outputs": [],
   "source": [
    "#Split timestamp into individual columns\n",
    "taxi_data[[\"YR\", \"MON\", \"DAY\", \"HR\", \"WK\"]] = taxi_data[[\"TIMESTAMP\"]].apply(parse_timestamp, axis=1, result_type=\"expand\")"
   ]
  },
  {
   "cell_type": "markdown",
   "id": "bee945ff",
   "metadata": {},
   "source": [
    "#### Baseline Prediction Model with Statistics"
   ]
  },
  {
   "cell_type": "code",
   "execution_count": 13,
   "id": "ef94a949",
   "metadata": {},
   "outputs": [
    {
     "name": "stdout",
     "output_type": "stream",
     "text": [
      "mean_duration=716.4264615618442\n",
      "median=600.0\n",
      "standard_deviation=684.7511617510816\n"
     ]
    }
   ],
   "source": [
    "mean_duration = taxi_data[\"LEN\"].mean()\n",
    "standard_deviation = taxi_data[\"LEN\"].std()\n",
    "median = taxi_data[\"LEN\"].median()\n",
    "\n",
    "print(f\"{mean_duration=}\\n{median=}\\n{standard_deviation=}\")"
   ]
  },
  {
   "cell_type": "markdown",
   "id": "6e875903",
   "metadata": {},
   "source": [
    "### Distribution Plots "
   ]
  },
  {
   "cell_type": "markdown",
   "id": "2e0580ce",
   "metadata": {},
   "source": [
    "#### Data Cleaning is necessary for effective data visualization"
   ]
  },
  {
   "cell_type": "code",
   "execution_count": 14,
   "id": "6313516b",
   "metadata": {},
   "outputs": [
    {
     "name": "stdout",
     "output_type": "stream",
     "text": [
      "Using: 1692771/1710670\n",
      "Using: 1692763/1710670\n"
     ]
    }
   ],
   "source": [
    "outlier_threshold = 3\n",
    "total_size = len(taxi_data)\n",
    "temp_taxi_data = taxi_data[taxi_data[\"LEN\"] < mean_duration + outlier_threshold * standard_deviation]\n",
    "print(f\"Using: {len(temp_taxi_data)}/{total_size}\")\n",
    "trimmed_taxi_data = temp_taxi_data[temp_taxi_data[\"MISSING_DATA\"] == False]\n",
    "print(f\"Using: {len(trimmed_taxi_data)}/{total_size}\")"
   ]
  },
  {
   "cell_type": "markdown",
   "id": "33ac2b3d",
   "metadata": {},
   "source": [
    "#### Trip Time"
   ]
  },
  {
   "cell_type": "code",
   "execution_count": 15,
   "id": "68519b51",
   "metadata": {},
   "outputs": [
    {
     "data": {
      "image/png": "[encoded data removed]",
      "text/plain": [
       "<Figure size 432x288 with 1 Axes>"
      ]
     },
     "metadata": {
      "needs_background": "light"
     },
     "output_type": "display_data"
    }
   ],
   "source": [
    "duration = trimmed_taxi_data[\"LEN\"].tolist()\n",
    "plt.hist(duration, bins=100)\n",
    "plt.xlabel('Trip Duration')\n",
    "plt.ylabel('Number of Trips')\n",
    "plt.title('Distribution of Trip Duration in Normalized Training Dataset')\n",
    "plt.savefig(\"time_dist.png\")"
   ]
  },
  {
   "cell_type": "markdown",
   "id": "9dbca159",
   "metadata": {},
   "source": [
    "#### Month, Day and Hour"
   ]
  },
  {
   "cell_type": "code",
   "execution_count": 23,
   "id": "8b2f3c49",
   "metadata": {},
   "outputs": [
    {
     "data": {
      "text/plain": [
       "Text(0.5, 1.0, 'Distribution of Trips Across Years')"
      ]
     },
     "execution_count": 23,
     "metadata": {},
     "output_type": "execute_result"
    },
    {
     "data": {
      "image/png": "[encoded data removed]",
      "text/plain": [
       "<Figure size 432x288 with 1 Axes>"
      ]
     },
     "metadata": {
      "needs_background": "light"
     },
     "output_type": "display_data"
    }
   ],
   "source": [
    "#Year\n",
    "\n",
    "year = trimmed_taxi_data[\"YR\"].tolist()\n",
    "\n",
    "plt.hist(year, bins = 3)\n",
    "plt.xlabel('Year')\n",
    "plt.ylabel('Number of Trips')\n",
    "plt.title('Distribution of Trips Across Years')"
   ]
  },
  {
   "cell_type": "code",
   "execution_count": 16,
   "id": "569cc1e1",
   "metadata": {},
   "outputs": [
    {
     "data": {
      "image/png": "[encoded data removed]",
      "text/plain": [
       "<Figure size 432x288 with 1 Axes>"
      ]
     },
     "metadata": {
      "needs_background": "light"
     },
     "output_type": "display_data"
    }
   ],
   "source": [
    "#Month\n",
    "month = trimmed_taxi_data[\"MON\"].tolist()\n",
    "\n",
    "month_vis = {1:0, 2:0, 3:0, 4:0, 5:0, 6:0, 7:0, 8:0, 9:0, 10:0, 11:0, 12:0}\n",
    "for trip in month:\n",
    "    month_vis[trip] += 1\n",
    "    \n",
    "months = list(month_vis.keys())\n",
    "num_trips = list(month_vis.values())\n",
    "    \n",
    "plt.bar(months, num_trips, width = 0.4)\n",
    "plt.xlabel('Month')\n",
    "plt.ylabel('Number of Trips')\n",
    "plt.title('Distribution of Trips Across Months')\n",
    "plt.savefig(\"month_dist.png\")"
   ]
  },
  {
   "cell_type": "code",
   "execution_count": 17,
   "id": "af6e6c42",
   "metadata": {},
   "outputs": [
    {
     "data": {
      "image/png": "[encoded data removed]",
      "text/plain": [
       "<Figure size 432x288 with 1 Axes>"
      ]
     },
     "metadata": {
      "needs_background": "light"
     },
     "output_type": "display_data"
    }
   ],
   "source": [
    "#Day\n",
    "day = trimmed_taxi_data[\"DAY\"].tolist()\n",
    "\n",
    "day_vis = {1:0, 2:0, 3:0, 4:0, 5:0, 6:0, 7:0, 8:0, 9:0, 10:0, 11:0, 12:0, 13:0, 14:0, 15:0, 16:0, 17:0, 18:0, 19:0, 20:0, 21:0, 22:0, 23:0, 24:0, 25:0, 26:0, 27:0, 28:0, 29:0, 30:0, 31:0}\n",
    "for trip in day:\n",
    "    day_vis[trip] += 1\n",
    "    \n",
    "days = list(day_vis.keys())\n",
    "num_trips = list(day_vis.values())\n",
    "    \n",
    "plt.bar(days, num_trips, width = 0.4)\n",
    "plt.xlabel('Day')\n",
    "plt.ylabel('Number of Trips')\n",
    "plt.title('Distribution of Trips Across Days of the Month')\n",
    "plt.savefig(\"day_dist.png\")"
   ]
  },
  {
   "cell_type": "code",
   "execution_count": 18,
   "id": "8813f1d4",
   "metadata": {},
   "outputs": [
    {
     "data": {
      "image/png": "[encoded data removed]",
      "text/plain": [
       "<Figure size 432x288 with 1 Axes>"
      ]
     },
     "metadata": {
      "needs_background": "light"
     },
     "output_type": "display_data"
    }
   ],
   "source": [
    "#Hour\n",
    "hr = trimmed_taxi_data[\"MON\"].tolist()\n",
    "\n",
    "hr_vis = {1:0, 2:0, 3:0, 4:0, 5:0, 6:0, 7:0, 8:0, 9:0, 10:0, 11:0, 12:0}\n",
    "for trip in hr:\n",
    "    hr_vis[trip] += 1\n",
    "    \n",
    "hrs = list(hr_vis.keys())\n",
    "num_trips = list(hr_vis.values())\n",
    "    \n",
    "plt.bar(hrs, num_trips, width = 0.4)\n",
    "plt.xlabel('Hour')\n",
    "plt.ylabel('Number of Trips')\n",
    "plt.title('Distribution of Trips Across Hours of the Day')\n",
    "plt.savefig(\"hr_dist.png\")"
   ]
  },
  {
   "cell_type": "markdown",
   "id": "83baae7c",
   "metadata": {},
   "source": [
    "### Velocity Distribution\n",
    "\n",
    "Velocity was derived from the POLYLINE field of the training data and is used to train a model to predict velocity which is then used to predict trip duration"
   ]
  },
  {
   "cell_type": "code",
   "execution_count": 19,
   "id": "54c227e3",
   "metadata": {},
   "outputs": [],
   "source": [
    "trimmed_taxi_data.reset_index(drop=True, inplace=True)\n",
    "avg_velo(trimmed_taxi_data)"
   ]
  },
  {
   "cell_type": "code",
   "execution_count": 20,
   "id": "a5aacf54",
   "metadata": {},
   "outputs": [
    {
     "name": "stdout",
     "output_type": "stream",
     "text": [
      "mean_velocity=velocity    6.87536\n",
      "dtype: float64\n",
      "median_velo=velocity    6.150449\n",
      "dtype: float64\n",
      "standard_deviation_velo=velocity    25.872258\n",
      "dtype: float64\n",
      "Using: 1691242/1692763\n"
     ]
    }
   ],
   "source": [
    "avg_velo_df = pd.DataFrame({'velocity':avg_velocities})\n",
    "\n",
    "mean_velocity = avg_velo_df.mean()\n",
    "standard_deviation_velo = avg_velo_df.std()\n",
    "median_velo = avg_velo_df.median()\n",
    "\n",
    "print(f\"{mean_velocity=}\\n{median_velo=}\\n{standard_deviation_velo=}\")\n",
    "\n",
    "outlier_threshold = 3\n",
    "total_size = len(avg_velocities)\n",
    "trimmed_velo = avg_velo_df[avg_velo_df[\"velocity\"] < 50]\n",
    "print(f\"Using: {len(trimmed_velo)}/{total_size}\")"
   ]
  },
  {
   "cell_type": "code",
   "execution_count": 21,
   "id": "0f008b05",
   "metadata": {},
   "outputs": [
    {
     "data": {
      "image/png": "[encoded data removed]",
      "text/plain": [
       "<Figure size 432x288 with 1 Axes>"
      ]
     },
     "metadata": {
      "needs_background": "light"
     },
     "output_type": "display_data"
    }
   ],
   "source": [
    "plt.hist(trimmed_velo[\"velocity\"].tolist(), bins=100)\n",
    "plt.xlabel('Average Velocity Distribution')\n",
    "plt.ylabel('Number of Trips')\n",
    "plt.title('Distribution of Trip Average Velocity in Normalized Training Dataset')\n",
    "plt.savefig(\"velocity_dist.png\")"
   ]
  },
  {
   "cell_type": "markdown",
   "id": "3855f14a",
   "metadata": {},
   "source": [
    "### Positional Heatmaps"
   ]
  },
  {
   "cell_type": "code",
   "execution_count": 22,
   "id": "170cf37f",
   "metadata": {},
   "outputs": [],
   "source": [
    "initial = []\n",
    "final = []\n",
    "#allpos = []\n",
    "\n",
    "for positions in coordinate_list:\n",
    "    if(len(positions)<2):\n",
    "        break\n",
    "        \n",
    "    initial.append([positions[0], positions[1]])\n",
    "    final.append([positions[-2], positions[-1]])"
   ]
  },
  {
   "cell_type": "markdown",
   "id": "f61da8e7",
   "metadata": {},
   "source": [
    "#### Initial Positions"
   ]
  },
  {
   "cell_type": "code",
   "execution_count": 23,
   "id": "fec1fe29",
   "metadata": {},
   "outputs": [
    {
     "name": "stdout",
     "output_type": "stream",
     "text": [
      "[-8.694846, -8.68512647368421, -8.67540694736842, -8.665687421052631, -8.655967894736841, -8.646248368421054, -8.636528842105264, -8.626809315789474, -8.617089789473685, -8.607370263157895, -8.597650736842105, -8.587931210526316, -8.578211684210526, -8.568492157894736, -8.558772631578947, -8.549053105263159, -8.53933357894737, -8.52961405263158, -8.51989452631579, -8.510175]\n",
      "[41.008275, 41.02032742105263, 41.032379842105264, 41.044432263157894, 41.056484684210524, 41.068537105263154, 41.08058952631579, 41.09264194736842, 41.10469436842105, 41.11674678947368, 41.12879921052632, 41.14085163157895, 41.15290405263158, 41.16495647368421, 41.177008894736844, 41.18906131578947, 41.2011137368421, 41.21316615789473, 41.22521857894737, 41.237271]\n"
     ]
    }
   ],
   "source": [
    "init_long = []\n",
    "init_lat = []\n",
    "\n",
    "for i in initial:\n",
    "    if i[0] not in init_long:\n",
    "        init_long.append(i[0])\n",
    "    if i[1] not in init_lat:\n",
    "        init_lat.append(i[1])\n",
    "        \n",
    "init_long_range = np.linspace(min(init_long), max(init_long), 20).tolist()\n",
    "init_lat_range = np.linspace(min(init_lat), max(init_lat), 20).tolist()\n",
    "\n",
    "values = [[0] * len(init_long_range)] * len(init_lat_range)\n",
    "\n",
    "print(init_long_range)\n",
    "print(init_lat_range)\n",
    "\n",
    "for pos in initial:\n",
    "    app_i = 0\n",
    "    app_j = 0\n",
    "    \n",
    "    #print(pos)\n",
    "    \n",
    "    for i in range(0, len(init_lat_range), 1):\n",
    "\n",
    "        if(pos[1] < init_lat_range[i]):\n",
    "            app_i = i\n",
    "            break\n",
    "        \n",
    "    for j in range(0, len(init_long_range), 1):\n",
    "            \n",
    "        if(pos[0] < init_long_range[j]):\n",
    "            app_j = j\n",
    "            break\n",
    "            \n",
    "    values[app_i][app_j] +=1"
   ]
  },
  {
   "cell_type": "code",
   "execution_count": 24,
   "id": "c991c6aa",
   "metadata": {},
   "outputs": [
    {
     "data": {
      "image/png": "[encoded data removed]",
      "text/plain": [
       "<Figure size 432x288 with 2 Axes>"
      ]
     },
     "metadata": {
      "needs_background": "light"
     },
     "output_type": "display_data"
    }
   ],
   "source": [
    "import seaborn\n",
    "\n",
    "seaborn.heatmap(values, xticklabels = init_long_range, yticklabels = init_lat_range).set(title = \"Distribution of trip start positions\")\n",
    "plt.savefig(\"sthm.png\")"
   ]
  },
  {
   "cell_type": "markdown",
   "id": "9fa8a947",
   "metadata": {},
   "source": [
    "#### Destinations"
   ]
  },
  {
   "cell_type": "code",
   "execution_count": 25,
   "id": "0f0f66de",
   "metadata": {},
   "outputs": [],
   "source": [
    "final_long = []\n",
    "final_lat = []\n",
    "\n",
    "for i in final:\n",
    "    if i[0] not in final_long:\n",
    "        final_long.append(i[0])\n",
    "    if i[1] not in final_lat:\n",
    "        final_lat.append(i[1])\n",
    "        \n",
    "final_long_range = np.linspace(min(final_long), max(final_long), 20).tolist()\n",
    "final_lat_range = np.linspace(min(final_lat), max(final_lat), 20).tolist()\n",
    "\n",
    "fin_values = [[0] * len(final_long_range)] * len(final_lat_range)\n",
    "\n",
    "for pos in initial:\n",
    "    app_i = 0\n",
    "    app_j = 0\n",
    "    \n",
    "    #print(pos)\n",
    "    \n",
    "    for i in range(0, len(final_lat_range), 1):\n",
    "\n",
    "        if(pos[1] < final_lat_range[i]):\n",
    "            app_i = i\n",
    "            break\n",
    "        \n",
    "    for j in range(0, len(final_long_range), 1):\n",
    "            \n",
    "        if(pos[0] < final_long_range[j]):\n",
    "            app_j = j\n",
    "            break\n",
    "            \n",
    "    fin_values[app_i][app_j] +=1"
   ]
  },
  {
   "cell_type": "code",
   "execution_count": 26,
   "id": "63ddd741",
   "metadata": {},
   "outputs": [
    {
     "data": {
      "image/png": "[encoded data removed]",
      "text/plain": [
       "<Figure size 432x288 with 3 Axes>"
      ]
     },
     "metadata": {
      "needs_background": "light"
     },
     "output_type": "display_data"
    }
   ],
   "source": [
    "seaborn.heatmap(fin_values)\n",
    "seaborn.heatmap(values, xticklabels = final_long_range, yticklabels = final_lat_range).set(title = \"Distribution of trip end positions\")\n",
    "plt.savefig(\"ehm.png\")"
   ]
  },
  {
   "cell_type": "markdown",
   "id": "07e14145",
   "metadata": {},
   "source": [
    "### Post Processing Dataset Sample"
   ]
  },
  {
   "cell_type": "code",
   "execution_count": 27,
   "id": "77482fc6",
   "metadata": {},
   "outputs": [
    {
     "data": {
      "text/html": [
       "<div>\n",
       "<style scoped>\n",
       "    .dataframe tbody tr th:only-of-type {\n",
       "        vertical-align: middle;\n",
       "    }\n",
       "\n",
       "    .dataframe tbody tr th {\n",
       "        vertical-align: top;\n",
       "    }\n",
       "\n",
       "    .dataframe thead th {\n",
       "        text-align: right;\n",
       "    }\n",
       "</style>\n",
       "<table border=\"1\" class=\"dataframe\">\n",
       "  <thead>\n",
       "    <tr style=\"text-align: right;\">\n",
       "      <th></th>\n",
       "      <th>TRIP_ID</th>\n",
       "      <th>CALL_TYPE</th>\n",
       "      <th>ORIGIN_CALL</th>\n",
       "      <th>ORIGIN_STAND</th>\n",
       "      <th>TAXI_ID</th>\n",
       "      <th>TIMESTAMP</th>\n",
       "      <th>DAY_TYPE</th>\n",
       "      <th>MISSING_DATA</th>\n",
       "      <th>POLYLINE</th>\n",
       "      <th>LEN</th>\n",
       "      <th>YR</th>\n",
       "      <th>MON</th>\n",
       "      <th>DAY</th>\n",
       "      <th>HR</th>\n",
       "      <th>WK</th>\n",
       "    </tr>\n",
       "  </thead>\n",
       "  <tbody>\n",
       "    <tr>\n",
       "      <th>0</th>\n",
       "      <td>1372636858620000589</td>\n",
       "      <td>C</td>\n",
       "      <td>NaN</td>\n",
       "      <td>NaN</td>\n",
       "      <td>20000589</td>\n",
       "      <td>1372636858</td>\n",
       "      <td>A</td>\n",
       "      <td>False</td>\n",
       "      <td>[[-8.618643,41.141412],[-8.618499,41.141376],[...</td>\n",
       "      <td>330</td>\n",
       "      <td>2013</td>\n",
       "      <td>7</td>\n",
       "      <td>1</td>\n",
       "      <td>0</td>\n",
       "      <td>0</td>\n",
       "    </tr>\n",
       "    <tr>\n",
       "      <th>1</th>\n",
       "      <td>1372637303620000596</td>\n",
       "      <td>B</td>\n",
       "      <td>NaN</td>\n",
       "      <td>7.0</td>\n",
       "      <td>20000596</td>\n",
       "      <td>1372637303</td>\n",
       "      <td>A</td>\n",
       "      <td>False</td>\n",
       "      <td>[[-8.639847,41.159826],[-8.640351,41.159871],[...</td>\n",
       "      <td>270</td>\n",
       "      <td>2013</td>\n",
       "      <td>7</td>\n",
       "      <td>1</td>\n",
       "      <td>0</td>\n",
       "      <td>0</td>\n",
       "    </tr>\n",
       "    <tr>\n",
       "      <th>2</th>\n",
       "      <td>1372636951620000320</td>\n",
       "      <td>C</td>\n",
       "      <td>NaN</td>\n",
       "      <td>NaN</td>\n",
       "      <td>20000320</td>\n",
       "      <td>1372636951</td>\n",
       "      <td>A</td>\n",
       "      <td>False</td>\n",
       "      <td>[[-8.612964,41.140359],[-8.613378,41.14035],[-...</td>\n",
       "      <td>960</td>\n",
       "      <td>2013</td>\n",
       "      <td>7</td>\n",
       "      <td>1</td>\n",
       "      <td>0</td>\n",
       "      <td>0</td>\n",
       "    </tr>\n",
       "    <tr>\n",
       "      <th>3</th>\n",
       "      <td>1372636854620000520</td>\n",
       "      <td>C</td>\n",
       "      <td>NaN</td>\n",
       "      <td>NaN</td>\n",
       "      <td>20000520</td>\n",
       "      <td>1372636854</td>\n",
       "      <td>A</td>\n",
       "      <td>False</td>\n",
       "      <td>[[-8.574678,41.151951],[-8.574705,41.151942],[...</td>\n",
       "      <td>630</td>\n",
       "      <td>2013</td>\n",
       "      <td>7</td>\n",
       "      <td>1</td>\n",
       "      <td>0</td>\n",
       "      <td>0</td>\n",
       "    </tr>\n",
       "    <tr>\n",
       "      <th>4</th>\n",
       "      <td>1372637091620000337</td>\n",
       "      <td>C</td>\n",
       "      <td>NaN</td>\n",
       "      <td>NaN</td>\n",
       "      <td>20000337</td>\n",
       "      <td>1372637091</td>\n",
       "      <td>A</td>\n",
       "      <td>False</td>\n",
       "      <td>[[-8.645994,41.18049],[-8.645949,41.180517],[-...</td>\n",
       "      <td>420</td>\n",
       "      <td>2013</td>\n",
       "      <td>7</td>\n",
       "      <td>1</td>\n",
       "      <td>0</td>\n",
       "      <td>0</td>\n",
       "    </tr>\n",
       "  </tbody>\n",
       "</table>\n",
       "</div>"
      ],
      "text/plain": [
       "               TRIP_ID CALL_TYPE  ORIGIN_CALL  ORIGIN_STAND   TAXI_ID  \\\n",
       "0  1372636858620000589         C          NaN           NaN  20000589   \n",
       "1  1372637303620000596         B          NaN           7.0  20000596   \n",
       "2  1372636951620000320         C          NaN           NaN  20000320   \n",
       "3  1372636854620000520         C          NaN           NaN  20000520   \n",
       "4  1372637091620000337         C          NaN           NaN  20000337   \n",
       "\n",
       "    TIMESTAMP DAY_TYPE  MISSING_DATA  \\\n",
       "0  1372636858        A         False   \n",
       "1  1372637303        A         False   \n",
       "2  1372636951        A         False   \n",
       "3  1372636854        A         False   \n",
       "4  1372637091        A         False   \n",
       "\n",
       "                                            POLYLINE  LEN    YR  MON  DAY  HR  \\\n",
       "0  [[-8.618643,41.141412],[-8.618499,41.141376],[...  330  2013    7    1   0   \n",
       "1  [[-8.639847,41.159826],[-8.640351,41.159871],[...  270  2013    7    1   0   \n",
       "2  [[-8.612964,41.140359],[-8.613378,41.14035],[-...  960  2013    7    1   0   \n",
       "3  [[-8.574678,41.151951],[-8.574705,41.151942],[...  630  2013    7    1   0   \n",
       "4  [[-8.645994,41.18049],[-8.645949,41.180517],[-...  420  2013    7    1   0   \n",
       "\n",
       "   WK  \n",
       "0   0  \n",
       "1   0  \n",
       "2   0  \n",
       "3   0  \n",
       "4   0  "
      ]
     },
     "execution_count": 27,
     "metadata": {},
     "output_type": "execute_result"
    }
   ],
   "source": [
    "#trimmed_taxi_data = trimmed_taxi_data.drop(columns=['TRIP_ID', 'MISSING_DATA', 'DAY_TYPE', 'ORIGIN_CALL'])\n",
    "trimmed_taxi_data.head()"
   ]
  },
  {
   "cell_type": "code",
   "execution_count": 28,
   "id": "3f9d521b",
   "metadata": {},
   "outputs": [
    {
     "data": {
      "text/html": [
       "<div>\n",
       "<style scoped>\n",
       "    .dataframe tbody tr th:only-of-type {\n",
       "        vertical-align: middle;\n",
       "    }\n",
       "\n",
       "    .dataframe tbody tr th {\n",
       "        vertical-align: top;\n",
       "    }\n",
       "\n",
       "    .dataframe thead th {\n",
       "        text-align: right;\n",
       "    }\n",
       "</style>\n",
       "<table border=\"1\" class=\"dataframe\">\n",
       "  <thead>\n",
       "    <tr style=\"text-align: right;\">\n",
       "      <th></th>\n",
       "      <th>velocity</th>\n",
       "    </tr>\n",
       "  </thead>\n",
       "  <tbody>\n",
       "    <tr>\n",
       "      <th>0</th>\n",
       "      <td>11.937889</td>\n",
       "    </tr>\n",
       "    <tr>\n",
       "      <th>1</th>\n",
       "      <td>14.555896</td>\n",
       "    </tr>\n",
       "    <tr>\n",
       "      <th>2</th>\n",
       "      <td>11.808893</td>\n",
       "    </tr>\n",
       "    <tr>\n",
       "      <th>3</th>\n",
       "      <td>5.345865</td>\n",
       "    </tr>\n",
       "    <tr>\n",
       "      <th>4</th>\n",
       "      <td>10.378641</td>\n",
       "    </tr>\n",
       "  </tbody>\n",
       "</table>\n",
       "</div>"
      ],
      "text/plain": [
       "    velocity\n",
       "0  11.937889\n",
       "1  14.555896\n",
       "2  11.808893\n",
       "3   5.345865\n",
       "4  10.378641"
      ]
     },
     "execution_count": 28,
     "metadata": {},
     "output_type": "execute_result"
    }
   ],
   "source": [
    "trimmed_velo.head()"
   ]
  },
  {
   "cell_type": "markdown",
   "id": "3477eb2e",
   "metadata": {},
   "source": [
    "# Visualization on Test Data"
   ]
  },
  {
   "cell_type": "code",
   "execution_count": 29,
   "id": "dc352862",
   "metadata": {},
   "outputs": [
    {
     "data": {
      "text/html": [
       "<div>\n",
       "<style scoped>\n",
       "    .dataframe tbody tr th:only-of-type {\n",
       "        vertical-align: middle;\n",
       "    }\n",
       "\n",
       "    .dataframe tbody tr th {\n",
       "        vertical-align: top;\n",
       "    }\n",
       "\n",
       "    .dataframe thead th {\n",
       "        text-align: right;\n",
       "    }\n",
       "</style>\n",
       "<table border=\"1\" class=\"dataframe\">\n",
       "  <thead>\n",
       "    <tr style=\"text-align: right;\">\n",
       "      <th></th>\n",
       "      <th>TRIP_ID</th>\n",
       "      <th>CALL_TYPE</th>\n",
       "      <th>ORIGIN_CALL</th>\n",
       "      <th>ORIGIN_STAND</th>\n",
       "      <th>TAXI_ID</th>\n",
       "      <th>TIMESTAMP</th>\n",
       "      <th>DAY_TYPE</th>\n",
       "      <th>MISSING_DATA</th>\n",
       "    </tr>\n",
       "  </thead>\n",
       "  <tbody>\n",
       "    <tr>\n",
       "      <th>0</th>\n",
       "      <td>T1</td>\n",
       "      <td>B</td>\n",
       "      <td>NaN</td>\n",
       "      <td>15.0</td>\n",
       "      <td>20000542</td>\n",
       "      <td>1408039037</td>\n",
       "      <td>A</td>\n",
       "      <td>False</td>\n",
       "    </tr>\n",
       "    <tr>\n",
       "      <th>1</th>\n",
       "      <td>T2</td>\n",
       "      <td>B</td>\n",
       "      <td>NaN</td>\n",
       "      <td>57.0</td>\n",
       "      <td>20000108</td>\n",
       "      <td>1408038611</td>\n",
       "      <td>A</td>\n",
       "      <td>False</td>\n",
       "    </tr>\n",
       "    <tr>\n",
       "      <th>2</th>\n",
       "      <td>T3</td>\n",
       "      <td>B</td>\n",
       "      <td>NaN</td>\n",
       "      <td>15.0</td>\n",
       "      <td>20000370</td>\n",
       "      <td>1408038568</td>\n",
       "      <td>A</td>\n",
       "      <td>False</td>\n",
       "    </tr>\n",
       "    <tr>\n",
       "      <th>3</th>\n",
       "      <td>T4</td>\n",
       "      <td>B</td>\n",
       "      <td>NaN</td>\n",
       "      <td>53.0</td>\n",
       "      <td>20000492</td>\n",
       "      <td>1408039090</td>\n",
       "      <td>A</td>\n",
       "      <td>False</td>\n",
       "    </tr>\n",
       "    <tr>\n",
       "      <th>4</th>\n",
       "      <td>T5</td>\n",
       "      <td>B</td>\n",
       "      <td>NaN</td>\n",
       "      <td>18.0</td>\n",
       "      <td>20000621</td>\n",
       "      <td>1408039177</td>\n",
       "      <td>A</td>\n",
       "      <td>False</td>\n",
       "    </tr>\n",
       "  </tbody>\n",
       "</table>\n",
       "</div>"
      ],
      "text/plain": [
       "  TRIP_ID CALL_TYPE  ORIGIN_CALL  ORIGIN_STAND   TAXI_ID   TIMESTAMP DAY_TYPE  \\\n",
       "0      T1         B          NaN          15.0  20000542  1408039037        A   \n",
       "1      T2         B          NaN          57.0  20000108  1408038611        A   \n",
       "2      T3         B          NaN          15.0  20000370  1408038568        A   \n",
       "3      T4         B          NaN          53.0  20000492  1408039090        A   \n",
       "4      T5         B          NaN          18.0  20000621  1408039177        A   \n",
       "\n",
       "   MISSING_DATA  \n",
       "0         False  \n",
       "1         False  \n",
       "2         False  \n",
       "3         False  \n",
       "4         False  "
      ]
     },
     "execution_count": 29,
     "metadata": {},
     "output_type": "execute_result"
    }
   ],
   "source": [
    "test_data = pd.read_csv(\"kaggle_data/test_public.csv\")\n",
    "\n",
    "#Display first 5 Lines\n",
    "test_data.head()"
   ]
  },
  {
   "cell_type": "code",
   "execution_count": 30,
   "id": "eaccef00",
   "metadata": {},
   "outputs": [
    {
     "data": {
      "text/plain": [
       "(320, 8)"
      ]
     },
     "execution_count": 30,
     "metadata": {},
     "output_type": "execute_result"
    }
   ],
   "source": [
    "#Dataset Size\n",
    "test_data.shape"
   ]
  },
  {
   "cell_type": "code",
   "execution_count": 31,
   "id": "8c4e0151",
   "metadata": {},
   "outputs": [
    {
     "data": {
      "text/plain": [
       "Index(['TRIP_ID', 'CALL_TYPE', 'ORIGIN_CALL', 'ORIGIN_STAND', 'TAXI_ID',\n",
       "       'TIMESTAMP', 'DAY_TYPE', 'MISSING_DATA'],\n",
       "      dtype='object')"
      ]
     },
     "execution_count": 31,
     "metadata": {},
     "output_type": "execute_result"
    }
   ],
   "source": [
    "#Dataset Information Type\n",
    "test_data.columns"
   ]
  },
  {
   "cell_type": "code",
   "execution_count": 32,
   "id": "1395519b",
   "metadata": {},
   "outputs": [
    {
     "data": {
      "text/plain": [
       "TRIP_ID           0\n",
       "CALL_TYPE         0\n",
       "ORIGIN_CALL     248\n",
       "ORIGIN_STAND    197\n",
       "TAXI_ID           0\n",
       "TIMESTAMP         0\n",
       "DAY_TYPE          0\n",
       "MISSING_DATA      0\n",
       "dtype: int64"
      ]
     },
     "execution_count": 32,
     "metadata": {},
     "output_type": "execute_result"
    }
   ],
   "source": [
    "#Find number of empty datacells by information type\n",
    "test_data.isnull().sum()"
   ]
  },
  {
   "cell_type": "code",
   "execution_count": null,
   "id": "3847a9d2",
   "metadata": {},
   "outputs": [],
   "source": []
  }
 ],
 "metadata": {
  "kernelspec": {
   "display_name": "Python 3 (ipykernel)",
   "language": "python",
   "name": "python3"
  },
  "language_info": {
   "codemirror_mode": {
    "name": "ipython",
    "version": 3
   },
   "file_extension": ".py",
   "mimetype": "text/x-python",
   "name": "python",
   "nbconvert_exporter": "python",
   "pygments_lexer": "ipython3",
   "version": "3.9.5"
  }
 },
 "nbformat": 4,
 "nbformat_minor": 5
}
